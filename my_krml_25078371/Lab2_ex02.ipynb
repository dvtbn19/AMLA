{
 "cells": [
  {
   "cell_type": "code",
   "execution_count": 1,
   "id": "c36ff41a-5085-4eff-87c4-cc11ce9e3016",
   "metadata": {},
   "outputs": [
    {
     "name": "stdout",
     "output_type": "stream",
     "text": [
      "Looking in indexes: https://test.pypi.org/simple/\n",
      "Requirement already satisfied: my_krml_25078371 in /Users/doanvanthang/Library/Caches/pypoetry/virtualenvs/my-krml-25078371-V5aIxj-y-py3.12/lib/python3.12/site-packages (0.1.0)\n",
      "Requirement already satisfied: pandas==2.2.2 in /Users/doanvanthang/Library/Caches/pypoetry/virtualenvs/my-krml-25078371-V5aIxj-y-py3.12/lib/python3.12/site-packages (from my_krml_25078371) (2.2.2)\n",
      "Requirement already satisfied: scikit-learn==1.5.1 in /Users/doanvanthang/Library/Caches/pypoetry/virtualenvs/my-krml-25078371-V5aIxj-y-py3.12/lib/python3.12/site-packages (from my_krml_25078371) (1.5.1)\n",
      "Requirement already satisfied: numpy>=1.26.0 in /Users/doanvanthang/Library/Caches/pypoetry/virtualenvs/my-krml-25078371-V5aIxj-y-py3.12/lib/python3.12/site-packages (from pandas==2.2.2->my_krml_25078371) (2.3.2)\n",
      "Requirement already satisfied: python-dateutil>=2.8.2 in /Users/doanvanthang/Library/Caches/pypoetry/virtualenvs/my-krml-25078371-V5aIxj-y-py3.12/lib/python3.12/site-packages (from pandas==2.2.2->my_krml_25078371) (2.9.0.post0)\n",
      "Requirement already satisfied: pytz>=2020.1 in /Users/doanvanthang/Library/Caches/pypoetry/virtualenvs/my-krml-25078371-V5aIxj-y-py3.12/lib/python3.12/site-packages (from pandas==2.2.2->my_krml_25078371) (2025.2)\n",
      "Requirement already satisfied: tzdata>=2022.7 in /Users/doanvanthang/Library/Caches/pypoetry/virtualenvs/my-krml-25078371-V5aIxj-y-py3.12/lib/python3.12/site-packages (from pandas==2.2.2->my_krml_25078371) (2025.2)\n",
      "Requirement already satisfied: scipy>=1.6.0 in /Users/doanvanthang/Library/Caches/pypoetry/virtualenvs/my-krml-25078371-V5aIxj-y-py3.12/lib/python3.12/site-packages (from scikit-learn==1.5.1->my_krml_25078371) (1.16.1)\n",
      "Requirement already satisfied: joblib>=1.2.0 in /Users/doanvanthang/Library/Caches/pypoetry/virtualenvs/my-krml-25078371-V5aIxj-y-py3.12/lib/python3.12/site-packages (from scikit-learn==1.5.1->my_krml_25078371) (1.5.1)\n",
      "Requirement already satisfied: threadpoolctl>=3.1.0 in /Users/doanvanthang/Library/Caches/pypoetry/virtualenvs/my-krml-25078371-V5aIxj-y-py3.12/lib/python3.12/site-packages (from scikit-learn==1.5.1->my_krml_25078371) (3.6.0)\n",
      "Requirement already satisfied: six>=1.5 in /Users/doanvanthang/Library/Caches/pypoetry/virtualenvs/my-krml-25078371-V5aIxj-y-py3.12/lib/python3.12/site-packages (from python-dateutil>=2.8.2->pandas==2.2.2->my_krml_25078371) (1.17.0)\n"
     ]
    }
   ],
   "source": [
    "! pip install -i https://test.pypi.org/simple/ my_krml_25078371"
   ]
  },
  {
   "cell_type": "code",
   "execution_count": 2,
   "id": "44f64e80-1e9f-48ea-9a95-8f169e28a1ad",
   "metadata": {},
   "outputs": [],
   "source": [
    "%load_ext autoreload\n",
    "%autoreload 2"
   ]
  },
  {
   "cell_type": "code",
   "execution_count": 3,
   "id": "aa635e7d-6387-41be-9bd8-66624d7b22e2",
   "metadata": {},
   "outputs": [],
   "source": [
    "import pandas as pd\n",
    "import numpy as np"
   ]
  },
  {
   "cell_type": "code",
   "execution_count": 5,
   "id": "2c20ca6a-ee54-46f1-8806-57007b72fe29",
   "metadata": {},
   "outputs": [],
   "source": [
    "from my_krml_25078371.data.sets import split_sets_random"
   ]
  },
  {
   "cell_type": "code",
   "execution_count": null,
   "id": "023925b3-82e4-4c71-aeac-cfc15afc9dc5",
   "metadata": {},
   "outputs": [],
   "source": []
  }
 ],
 "metadata": {
  "kernelspec": {
   "display_name": "Python 3 (ipykernel)",
   "language": "python",
   "name": "python3"
  },
  "language_info": {
   "codemirror_mode": {
    "name": "ipython",
    "version": 3
   },
   "file_extension": ".py",
   "mimetype": "text/x-python",
   "name": "python",
   "nbconvert_exporter": "python",
   "pygments_lexer": "ipython3",
   "version": "3.12.2"
  }
 },
 "nbformat": 4,
 "nbformat_minor": 5
}
