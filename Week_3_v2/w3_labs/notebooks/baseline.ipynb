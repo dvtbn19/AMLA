{
 "cells": [
  {
   "cell_type": "code",
   "execution_count": 1,
   "id": "553d7c73-1fb9-41c5-a934-324af7d6de51",
   "metadata": {},
   "outputs": [],
   "source": [
    "%load_ext autoreload\n",
    "%autoreload 2\n"
   ]
  },
  {
   "cell_type": "code",
   "execution_count": 2,
   "id": "6c49e113-04a6-4acf-8fd7-a538b7417413",
   "metadata": {},
   "outputs": [
    {
     "name": "stdout",
     "output_type": "stream",
     "text": [
      "Looking in indexes: https://test.pypi.org/simple/\n",
      "Collecting my_krml_25078371\n",
      "  Downloading https://test-files.pythonhosted.org/packages/84/d6/8cecd561abfc194ea25f087dcfbbd5e4558c44b87b1401355766cc93d972/my_krml_25078371-2025.0.1.10-py3-none-any.whl.metadata (1.1 kB)\n",
      "Requirement already satisfied: pandas==2.2.2 in /Users/doanvanthang/Library/Caches/pypoetry/virtualenvs/week-3-lab-zR2Q-xdf-py3.11/lib/python3.11/site-packages (from my_krml_25078371) (2.2.2)\n",
      "Requirement already satisfied: scikit-learn==1.5.1 in /Users/doanvanthang/Library/Caches/pypoetry/virtualenvs/week-3-lab-zR2Q-xdf-py3.11/lib/python3.11/site-packages (from my_krml_25078371) (1.5.1)\n",
      "Requirement already satisfied: numpy>=1.23.2 in /Users/doanvanthang/Library/Caches/pypoetry/virtualenvs/week-3-lab-zR2Q-xdf-py3.11/lib/python3.11/site-packages (from pandas==2.2.2->my_krml_25078371) (2.3.3)\n",
      "Requirement already satisfied: python-dateutil>=2.8.2 in /Users/doanvanthang/Library/Caches/pypoetry/virtualenvs/week-3-lab-zR2Q-xdf-py3.11/lib/python3.11/site-packages (from pandas==2.2.2->my_krml_25078371) (2.9.0.post0)\n",
      "Requirement already satisfied: pytz>=2020.1 in /Users/doanvanthang/Library/Caches/pypoetry/virtualenvs/week-3-lab-zR2Q-xdf-py3.11/lib/python3.11/site-packages (from pandas==2.2.2->my_krml_25078371) (2025.2)\n",
      "Requirement already satisfied: tzdata>=2022.7 in /Users/doanvanthang/Library/Caches/pypoetry/virtualenvs/week-3-lab-zR2Q-xdf-py3.11/lib/python3.11/site-packages (from pandas==2.2.2->my_krml_25078371) (2025.2)\n",
      "Requirement already satisfied: scipy>=1.6.0 in /Users/doanvanthang/Library/Caches/pypoetry/virtualenvs/week-3-lab-zR2Q-xdf-py3.11/lib/python3.11/site-packages (from scikit-learn==1.5.1->my_krml_25078371) (1.16.2)\n",
      "Requirement already satisfied: joblib>=1.2.0 in /Users/doanvanthang/Library/Caches/pypoetry/virtualenvs/week-3-lab-zR2Q-xdf-py3.11/lib/python3.11/site-packages (from scikit-learn==1.5.1->my_krml_25078371) (1.5.2)\n",
      "Requirement already satisfied: threadpoolctl>=3.1.0 in /Users/doanvanthang/Library/Caches/pypoetry/virtualenvs/week-3-lab-zR2Q-xdf-py3.11/lib/python3.11/site-packages (from scikit-learn==1.5.1->my_krml_25078371) (3.6.0)\n",
      "Requirement already satisfied: six>=1.5 in /Users/doanvanthang/Library/Caches/pypoetry/virtualenvs/week-3-lab-zR2Q-xdf-py3.11/lib/python3.11/site-packages (from python-dateutil>=2.8.2->pandas==2.2.2->my_krml_25078371) (1.17.0)\n",
      "Downloading https://test-files.pythonhosted.org/packages/84/d6/8cecd561abfc194ea25f087dcfbbd5e4558c44b87b1401355766cc93d972/my_krml_25078371-2025.0.1.10-py3-none-any.whl (5.2 kB)\n",
      "Installing collected packages: my_krml_25078371\n",
      "Successfully installed my_krml_25078371-2025.0.1.10\n"
     ]
    }
   ],
   "source": [
    "!pip install -i https://test.pypi.org/simple/ my_krml_25078371"
   ]
  },
  {
   "cell_type": "code",
   "execution_count": 3,
   "id": "00196708-954b-42f5-bf38-eafc0b5c5da0",
   "metadata": {},
   "outputs": [],
   "source": [
    "import pandas as pd\n",
    "import numpy as np"
   ]
  },
  {
   "cell_type": "code",
   "execution_count": 7,
   "id": "8cdf9cad-d74d-48bc-afaf-68672b83f159",
   "metadata": {},
   "outputs": [],
   "source": [
    "df = pd.read_csv(\"../data/raw/archive.zip\")"
   ]
  },
  {
   "cell_type": "code",
   "execution_count": 8,
   "id": "55f67b6d-0867-4e87-8dc6-8d87e70b0b14",
   "metadata": {},
   "outputs": [
    {
     "data": {
      "text/html": [
       "<div>\n",
       "<style scoped>\n",
       "    .dataframe tbody tr th:only-of-type {\n",
       "        vertical-align: middle;\n",
       "    }\n",
       "\n",
       "    .dataframe tbody tr th {\n",
       "        vertical-align: top;\n",
       "    }\n",
       "\n",
       "    .dataframe thead th {\n",
       "        text-align: right;\n",
       "    }\n",
       "</style>\n",
       "<table border=\"1\" class=\"dataframe\">\n",
       "  <thead>\n",
       "    <tr style=\"text-align: right;\">\n",
       "      <th></th>\n",
       "      <th>General_Health</th>\n",
       "      <th>Checkup</th>\n",
       "      <th>Exercise</th>\n",
       "      <th>Heart_Disease</th>\n",
       "      <th>Skin_Cancer</th>\n",
       "      <th>Other_Cancer</th>\n",
       "      <th>Depression</th>\n",
       "      <th>Diabetes</th>\n",
       "      <th>Arthritis</th>\n",
       "      <th>Sex</th>\n",
       "      <th>Age_Category</th>\n",
       "      <th>Height_(cm)</th>\n",
       "      <th>Weight_(kg)</th>\n",
       "      <th>BMI</th>\n",
       "      <th>Smoking_History</th>\n",
       "      <th>Alcohol_Consumption</th>\n",
       "      <th>Fruit_Consumption</th>\n",
       "      <th>Green_Vegetables_Consumption</th>\n",
       "      <th>FriedPotato_Consumption</th>\n",
       "    </tr>\n",
       "  </thead>\n",
       "  <tbody>\n",
       "    <tr>\n",
       "      <th>0</th>\n",
       "      <td>Poor</td>\n",
       "      <td>Within the past 2 years</td>\n",
       "      <td>No</td>\n",
       "      <td>No</td>\n",
       "      <td>No</td>\n",
       "      <td>No</td>\n",
       "      <td>No</td>\n",
       "      <td>No</td>\n",
       "      <td>Yes</td>\n",
       "      <td>Female</td>\n",
       "      <td>70-74</td>\n",
       "      <td>150.0</td>\n",
       "      <td>32.66</td>\n",
       "      <td>14.54</td>\n",
       "      <td>Yes</td>\n",
       "      <td>0.0</td>\n",
       "      <td>30.0</td>\n",
       "      <td>16.0</td>\n",
       "      <td>12.0</td>\n",
       "    </tr>\n",
       "    <tr>\n",
       "      <th>1</th>\n",
       "      <td>Very Good</td>\n",
       "      <td>Within the past year</td>\n",
       "      <td>No</td>\n",
       "      <td>Yes</td>\n",
       "      <td>No</td>\n",
       "      <td>No</td>\n",
       "      <td>No</td>\n",
       "      <td>Yes</td>\n",
       "      <td>No</td>\n",
       "      <td>Female</td>\n",
       "      <td>70-74</td>\n",
       "      <td>165.0</td>\n",
       "      <td>77.11</td>\n",
       "      <td>28.29</td>\n",
       "      <td>No</td>\n",
       "      <td>0.0</td>\n",
       "      <td>30.0</td>\n",
       "      <td>0.0</td>\n",
       "      <td>4.0</td>\n",
       "    </tr>\n",
       "    <tr>\n",
       "      <th>2</th>\n",
       "      <td>Very Good</td>\n",
       "      <td>Within the past year</td>\n",
       "      <td>Yes</td>\n",
       "      <td>No</td>\n",
       "      <td>No</td>\n",
       "      <td>No</td>\n",
       "      <td>No</td>\n",
       "      <td>Yes</td>\n",
       "      <td>No</td>\n",
       "      <td>Female</td>\n",
       "      <td>60-64</td>\n",
       "      <td>163.0</td>\n",
       "      <td>88.45</td>\n",
       "      <td>33.47</td>\n",
       "      <td>No</td>\n",
       "      <td>4.0</td>\n",
       "      <td>12.0</td>\n",
       "      <td>3.0</td>\n",
       "      <td>16.0</td>\n",
       "    </tr>\n",
       "    <tr>\n",
       "      <th>3</th>\n",
       "      <td>Poor</td>\n",
       "      <td>Within the past year</td>\n",
       "      <td>Yes</td>\n",
       "      <td>Yes</td>\n",
       "      <td>No</td>\n",
       "      <td>No</td>\n",
       "      <td>No</td>\n",
       "      <td>Yes</td>\n",
       "      <td>No</td>\n",
       "      <td>Male</td>\n",
       "      <td>75-79</td>\n",
       "      <td>180.0</td>\n",
       "      <td>93.44</td>\n",
       "      <td>28.73</td>\n",
       "      <td>No</td>\n",
       "      <td>0.0</td>\n",
       "      <td>30.0</td>\n",
       "      <td>30.0</td>\n",
       "      <td>8.0</td>\n",
       "    </tr>\n",
       "    <tr>\n",
       "      <th>4</th>\n",
       "      <td>Good</td>\n",
       "      <td>Within the past year</td>\n",
       "      <td>No</td>\n",
       "      <td>No</td>\n",
       "      <td>No</td>\n",
       "      <td>No</td>\n",
       "      <td>No</td>\n",
       "      <td>No</td>\n",
       "      <td>No</td>\n",
       "      <td>Male</td>\n",
       "      <td>80+</td>\n",
       "      <td>191.0</td>\n",
       "      <td>88.45</td>\n",
       "      <td>24.37</td>\n",
       "      <td>Yes</td>\n",
       "      <td>0.0</td>\n",
       "      <td>8.0</td>\n",
       "      <td>4.0</td>\n",
       "      <td>0.0</td>\n",
       "    </tr>\n",
       "  </tbody>\n",
       "</table>\n",
       "</div>"
      ],
      "text/plain": [
       "  General_Health                  Checkup Exercise Heart_Disease Skin_Cancer  \\\n",
       "0           Poor  Within the past 2 years       No            No          No   \n",
       "1      Very Good     Within the past year       No           Yes          No   \n",
       "2      Very Good     Within the past year      Yes            No          No   \n",
       "3           Poor     Within the past year      Yes           Yes          No   \n",
       "4           Good     Within the past year       No            No          No   \n",
       "\n",
       "  Other_Cancer Depression Diabetes Arthritis     Sex Age_Category  \\\n",
       "0           No         No       No       Yes  Female        70-74   \n",
       "1           No         No      Yes        No  Female        70-74   \n",
       "2           No         No      Yes        No  Female        60-64   \n",
       "3           No         No      Yes        No    Male        75-79   \n",
       "4           No         No       No        No    Male          80+   \n",
       "\n",
       "   Height_(cm)  Weight_(kg)    BMI Smoking_History  Alcohol_Consumption  \\\n",
       "0        150.0        32.66  14.54             Yes                  0.0   \n",
       "1        165.0        77.11  28.29              No                  0.0   \n",
       "2        163.0        88.45  33.47              No                  4.0   \n",
       "3        180.0        93.44  28.73              No                  0.0   \n",
       "4        191.0        88.45  24.37             Yes                  0.0   \n",
       "\n",
       "   Fruit_Consumption  Green_Vegetables_Consumption  FriedPotato_Consumption  \n",
       "0               30.0                          16.0                     12.0  \n",
       "1               30.0                           0.0                      4.0  \n",
       "2               12.0                           3.0                     16.0  \n",
       "3               30.0                          30.0                      8.0  \n",
       "4                8.0                           4.0                      0.0  "
      ]
     },
     "execution_count": 8,
     "metadata": {},
     "output_type": "execute_result"
    }
   ],
   "source": [
    "df.head()"
   ]
  },
  {
   "cell_type": "code",
   "execution_count": 11,
   "id": "ee771589-0611-4d8c-89d3-3b1b80342d6a",
   "metadata": {},
   "outputs": [],
   "source": [
    "df_cleaned = df.copy()"
   ]
  },
  {
   "cell_type": "code",
   "execution_count": 12,
   "id": "a56b31cf-8cfc-4db2-a363-f325da00d197",
   "metadata": {},
   "outputs": [],
   "source": [
    "target = df_cleaned.pop('Heart_Disease')\n",
    "target = target.map({'Yes': 1, 'No': 0})"
   ]
  },
  {
   "cell_type": "code",
   "execution_count": 14,
   "id": "b7dedf3d-60dd-4b91-a003-3815c6f1f046",
   "metadata": {},
   "outputs": [],
   "source": [
    "from my_krml_25078371.data.sets import split_sets_random\n",
    "\n",
    "X_train, y_train, X_val, y_val, X_test, y_test = split_sets_random(df_cleaned, target, test_ratio=0.2)"
   ]
  },
  {
   "cell_type": "code",
   "execution_count": 18,
   "id": "dff2e3a8-d674-4ca9-a3c7-d7c2ef5ac849",
   "metadata": {},
   "outputs": [],
   "source": [
    "from sklearn.dummy import DummyClassifier\n",
    "base_model = DummyClassifier(strategy='most_frequent')"
   ]
  },
  {
   "cell_type": "code",
   "execution_count": 20,
   "id": "9fc3b42a-44d2-4046-a598-69c11c84ac5a",
   "metadata": {},
   "outputs": [],
   "source": [
    "base_model.fit(X_train, y_train)\n",
    "y_base = base_model.predict(y_train)"
   ]
  },
  {
   "cell_type": "code",
   "execution_count": 21,
   "id": "feee15ae-9e8a-4c40-a26e-4c3cc7e19483",
   "metadata": {},
   "outputs": [
    {
     "name": "stdout",
     "output_type": "stream",
     "text": [
      "Accuracy Training: 0.9196112502158522\n",
      "F1 Training: 0.0\n"
     ]
    }
   ],
   "source": [
    "from my_krml_25078371.models.performance import print_classifier_scores\n",
    "\n",
    "print_classifier_scores(y_preds=y_base, y_actuals=y_train, set_name='Training')"
   ]
  },
  {
   "cell_type": "code",
   "execution_count": null,
   "id": "579edf14-f4a6-4709-9cc6-01b167ae84c5",
   "metadata": {},
   "outputs": [],
   "source": []
  }
 ],
 "metadata": {
  "kernelspec": {
   "display_name": "Python 3 (ipykernel)",
   "language": "python",
   "name": "python3"
  },
  "language_info": {
   "codemirror_mode": {
    "name": "ipython",
    "version": 3
   },
   "file_extension": ".py",
   "mimetype": "text/x-python",
   "name": "python",
   "nbconvert_exporter": "python",
   "pygments_lexer": "ipython3",
   "version": "3.11.4"
  }
 },
 "nbformat": 4,
 "nbformat_minor": 5
}
