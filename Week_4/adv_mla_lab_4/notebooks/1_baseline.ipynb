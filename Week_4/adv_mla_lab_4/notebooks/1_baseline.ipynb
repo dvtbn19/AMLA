{
 "cells": [
  {
   "cell_type": "code",
   "execution_count": 1,
   "id": "76459dc7-100b-4990-8483-23f7e3c958a9",
   "metadata": {},
   "outputs": [],
   "source": [
    "%load_ext autoreload\n",
    "%autoreload 2"
   ]
  },
  {
   "cell_type": "code",
   "execution_count": 2,
   "id": "3bcb525f-2f1e-486d-b69a-53a683fdeb9e",
   "metadata": {},
   "outputs": [
    {
     "name": "stdout",
     "output_type": "stream",
     "text": [
      "Looking in indexes: https://test.pypi.org/simple/\n",
      "Collecting my_krml_25078371\n",
      "  Downloading https://test-files.pythonhosted.org/packages/8a/cd/a466994574aedbc3df29186eb61018bf384c6196fdcdd7913215580b64ca/my_krml_25078371-2025.0.1.11-py3-none-any.whl.metadata (1.1 kB)\n",
      "Requirement already satisfied: pandas==2.2.2 in /Users/doanvanthang/Library/Caches/pypoetry/virtualenvs/adv-mla-lab-4-oliag5Vx-py3.11/lib/python3.11/site-packages (from my_krml_25078371) (2.2.2)\n",
      "Requirement already satisfied: scikit-learn==1.5.1 in /Users/doanvanthang/Library/Caches/pypoetry/virtualenvs/adv-mla-lab-4-oliag5Vx-py3.11/lib/python3.11/site-packages (from my_krml_25078371) (1.5.1)\n",
      "Requirement already satisfied: numpy>=1.23.2 in /Users/doanvanthang/Library/Caches/pypoetry/virtualenvs/adv-mla-lab-4-oliag5Vx-py3.11/lib/python3.11/site-packages (from pandas==2.2.2->my_krml_25078371) (2.3.3)\n",
      "Requirement already satisfied: python-dateutil>=2.8.2 in /Users/doanvanthang/Library/Caches/pypoetry/virtualenvs/adv-mla-lab-4-oliag5Vx-py3.11/lib/python3.11/site-packages (from pandas==2.2.2->my_krml_25078371) (2.9.0.post0)\n",
      "Requirement already satisfied: pytz>=2020.1 in /Users/doanvanthang/Library/Caches/pypoetry/virtualenvs/adv-mla-lab-4-oliag5Vx-py3.11/lib/python3.11/site-packages (from pandas==2.2.2->my_krml_25078371) (2025.2)\n",
      "Requirement already satisfied: tzdata>=2022.7 in /Users/doanvanthang/Library/Caches/pypoetry/virtualenvs/adv-mla-lab-4-oliag5Vx-py3.11/lib/python3.11/site-packages (from pandas==2.2.2->my_krml_25078371) (2025.2)\n",
      "Requirement already satisfied: scipy>=1.6.0 in /Users/doanvanthang/Library/Caches/pypoetry/virtualenvs/adv-mla-lab-4-oliag5Vx-py3.11/lib/python3.11/site-packages (from scikit-learn==1.5.1->my_krml_25078371) (1.16.2)\n",
      "Requirement already satisfied: joblib>=1.2.0 in /Users/doanvanthang/Library/Caches/pypoetry/virtualenvs/adv-mla-lab-4-oliag5Vx-py3.11/lib/python3.11/site-packages (from scikit-learn==1.5.1->my_krml_25078371) (1.5.2)\n",
      "Requirement already satisfied: threadpoolctl>=3.1.0 in /Users/doanvanthang/Library/Caches/pypoetry/virtualenvs/adv-mla-lab-4-oliag5Vx-py3.11/lib/python3.11/site-packages (from scikit-learn==1.5.1->my_krml_25078371) (3.6.0)\n",
      "Requirement already satisfied: six>=1.5 in /Users/doanvanthang/Library/Caches/pypoetry/virtualenvs/adv-mla-lab-4-oliag5Vx-py3.11/lib/python3.11/site-packages (from python-dateutil>=2.8.2->pandas==2.2.2->my_krml_25078371) (1.17.0)\n",
      "Downloading https://test-files.pythonhosted.org/packages/8a/cd/a466994574aedbc3df29186eb61018bf384c6196fdcdd7913215580b64ca/my_krml_25078371-2025.0.1.11-py3-none-any.whl (5.3 kB)\n",
      "Installing collected packages: my_krml_25078371\n",
      "Successfully installed my_krml_25078371-2025.0.1.11\n"
     ]
    }
   ],
   "source": [
    "!pip install -i https://test.pypi.org/simple/ my_krml_25078371"
   ]
  },
  {
   "cell_type": "code",
   "execution_count": 3,
   "id": "eef3321a-3f4d-4b33-9bef-60c62da097c7",
   "metadata": {},
   "outputs": [],
   "source": [
    "import pandas as pd\n",
    "import numpy as np"
   ]
  },
  {
   "cell_type": "code",
   "execution_count": 4,
   "id": "5e7998a8-c5ab-4960-be75-0b56c268799d",
   "metadata": {},
   "outputs": [],
   "source": [
    "df = pd.read_csv('../data/raw/OnlineNewsPopularity.csv')"
   ]
  },
  {
   "cell_type": "code",
   "execution_count": 5,
   "id": "c756e79b-f9d9-4686-94f8-bc2a3e441cf2",
   "metadata": {},
   "outputs": [],
   "source": [
    "df_cleaned = df.copy()"
   ]
  },
  {
   "cell_type": "code",
   "execution_count": 6,
   "id": "8b6de6cd-ef62-4ba0-9bae-2d15a2ad4e85",
   "metadata": {},
   "outputs": [],
   "source": [
    "df_cleaned.drop('url', axis=1, inplace=True)"
   ]
  },
  {
   "cell_type": "code",
   "execution_count": 7,
   "id": "4a02bcf3-4952-427d-a0ae-a4d7204bd743",
   "metadata": {},
   "outputs": [],
   "source": [
    "df_cleaned.columns = df_cleaned.columns.str.strip()"
   ]
  },
  {
   "cell_type": "code",
   "execution_count": 8,
   "id": "cb71cf1b-9e0a-4b31-8286-f908235144bd",
   "metadata": {},
   "outputs": [],
   "source": [
    "from my_krml_25078371.data.sets import pop_target\n",
    "features, target = pop_target(df_cleaned, 'shares')"
   ]
  },
  {
   "cell_type": "code",
   "execution_count": 9,
   "id": "70b6a309-3826-46d9-b725-c0f28bd460f3",
   "metadata": {},
   "outputs": [],
   "source": [
    "from sklearn.preprocessing import StandardScaler\n",
    "scaler = StandardScaler()\n",
    "features = pd.DataFrame(scaler.fit_transform(features), columns=features.columns)"
   ]
  },
  {
   "cell_type": "code",
   "execution_count": 10,
   "id": "c0b55c84-4f05-45a2-bc75-70178db5f141",
   "metadata": {},
   "outputs": [
    {
     "data": {
      "text/plain": [
       "['../models/scaler.joblib']"
      ]
     },
     "execution_count": 10,
     "metadata": {},
     "output_type": "execute_result"
    }
   ],
   "source": [
    "from joblib import dump\n",
    "dump(scaler, '../models/scaler.joblib')"
   ]
  },
  {
   "cell_type": "code",
   "execution_count": 11,
   "id": "0971b4fd-c08d-49d4-886a-eec414e311dc",
   "metadata": {},
   "outputs": [],
   "source": [
    "from my_krml_25078371.data.sets import split_sets_random"
   ]
  },
  {
   "cell_type": "code",
   "execution_count": 12,
   "id": "41dc533a-6568-4a1b-a0a7-8cbb1ad06f25",
   "metadata": {},
   "outputs": [],
   "source": [
    "X_train, y_train, X_val, y_val, X_test, y_test = split_sets_random(features, target, test_ratio=0.2)"
   ]
  },
  {
   "cell_type": "code",
   "execution_count": 13,
   "id": "f470e9e8-6631-46d4-9c41-3c9e746e9bf9",
   "metadata": {},
   "outputs": [
    {
     "name": "stdout",
     "output_type": "stream",
     "text": [
      "(23786, 59)\n",
      "(7929, 59)\n",
      "(7929, 59)\n"
     ]
    }
   ],
   "source": [
    "print(X_train.shape)\n",
    "print(X_val.shape)\n",
    "print(X_test.shape)"
   ]
  },
  {
   "cell_type": "code",
   "execution_count": 14,
   "id": "8fbaf7fe-28e2-4e70-b7f7-4e21efc221a6",
   "metadata": {},
   "outputs": [
    {
     "name": "stdout",
     "output_type": "stream",
     "text": [
      "(23786,)\n",
      "(7929,)\n",
      "(7929,)\n"
     ]
    }
   ],
   "source": [
    "print(y_train.shape)\n",
    "print(y_val.shape)\n",
    "print(y_test.shape)"
   ]
  },
  {
   "cell_type": "code",
   "execution_count": 15,
   "id": "6390323d-c328-4c14-ba04-774a4a8739c6",
   "metadata": {},
   "outputs": [],
   "source": [
    "from my_krml_25078371.data.sets import save_sets"
   ]
  },
  {
   "cell_type": "code",
   "execution_count": 16,
   "id": "95a0c268-cdd0-4de4-96a2-f090b1c4bccf",
   "metadata": {},
   "outputs": [],
   "source": [
    "save_sets(X_train, y_train, X_val, y_val, X_test, y_test, path='../data/processed/')"
   ]
  },
  {
   "cell_type": "code",
   "execution_count": 17,
   "id": "e6a4c0dd-e49a-47db-8402-a589820a5adf",
   "metadata": {},
   "outputs": [],
   "source": [
    "from sklearn.dummy import DummyRegressor"
   ]
  },
  {
   "cell_type": "code",
   "execution_count": 18,
   "id": "a572bdec-8178-49b0-8a0a-3383f24e9b83",
   "metadata": {},
   "outputs": [],
   "source": [
    "base_model = DummyRegressor(strategy='mean')"
   ]
  },
  {
   "cell_type": "code",
   "execution_count": 22,
   "id": "bcca47e1-15ed-4735-8e03-23ffce42bbbf",
   "metadata": {},
   "outputs": [],
   "source": [
    "base_model.fit(X_train, y_train)\n",
    "y_base = base_model.predict(y_train)"
   ]
  },
  {
   "cell_type": "code",
   "execution_count": 23,
   "id": "866ffa5f-0e53-4903-bc40-f74349f2e083",
   "metadata": {},
   "outputs": [
    {
     "name": "stdout",
     "output_type": "stream",
     "text": [
      "RMSE Training: 11854.785261497587\n",
      "MAE Training: 3191.7838929535715\n"
     ]
    }
   ],
   "source": [
    "from my_krml_25078371.models.performance import print_regressor_scores\n",
    "print_regressor_scores(y_preds=y_base, y_actuals=y_train, set_name='Training')"
   ]
  },
  {
   "cell_type": "code",
   "execution_count": null,
   "id": "2132db54-fb5f-43e3-91c5-416472334194",
   "metadata": {},
   "outputs": [],
   "source": []
  }
 ],
 "metadata": {
  "kernelspec": {
   "display_name": "Python 3 (ipykernel)",
   "language": "python",
   "name": "python3"
  },
  "language_info": {
   "codemirror_mode": {
    "name": "ipython",
    "version": 3
   },
   "file_extension": ".py",
   "mimetype": "text/x-python",
   "name": "python",
   "nbconvert_exporter": "python",
   "pygments_lexer": "ipython3",
   "version": "3.11.4"
  }
 },
 "nbformat": 4,
 "nbformat_minor": 5
}
